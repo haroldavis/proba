{
 "cells": [
  {
   "cell_type": "code",
   "execution_count": 374,
   "metadata": {},
   "outputs": [],
   "source": [
    "import pandas as pd\n",
    "import numpy as np\n",
    "import matplotlib.pyplot as plt\n",
    "import seaborn as sns\n",
    "\n",
    "from sklearn.preprocessing import MinMaxScaler\n",
    "from sklearn.preprocessing import StandardScaler\n",
    "from sklearn.model_selection import train_test_split\n",
    "\n",
    "#models\n",
    "from sklearn.svm import SVC\n",
    "from sklearn.linear_model import LogisticRegression, RidgeClassifier\n",
    "from sklearn.tree import DecisionTreeClassifier\n",
    "from sklearn.ensemble import RandomForestClassifier, GradientBoostingClassifier\n",
    "from sklearn.ensemble import RandomForestRegressor\n",
    "#metrics\n",
    "import sklearn.metrics as metrics\n",
    "\n",
    "#hiperparameters\n",
    "from sklearn.model_selection import GridSearchCV\n",
    "\n",
    "from sklearn.pipeline import Pipeline  # Para construir el Pipeline\n",
    "from sklearn.compose import ColumnTransformer  # Para aplicar transformaciones a diferentes columnas\n",
    "from sklearn.preprocessing import FunctionTransformer \n",
    "from sklearn.preprocessing import FunctionTransformer, OneHotEncoder\n",
    "\n",
    "from sklearn.impute import SimpleImputer\n",
    "\n",
    "pd.set_option('display.max_columns', 150) \n",
    "pd.set_option('display.max_rows', 300)"
   ]
  },
  {
   "cell_type": "code",
   "execution_count": 375,
   "metadata": {},
   "outputs": [],
   "source": [
    "df_subvencions = pd.read_csv('./data/Subvencions_atorgades_AjuntBCN_i_Instituts.csv')"
   ]
  },
  {
   "cell_type": "code",
   "execution_count": 376,
   "metadata": {},
   "outputs": [
    {
     "data": {
      "text/html": [
       "<div>\n",
       "<style scoped>\n",
       "    .dataframe tbody tr th:only-of-type {\n",
       "        vertical-align: middle;\n",
       "    }\n",
       "\n",
       "    .dataframe tbody tr th {\n",
       "        vertical-align: top;\n",
       "    }\n",
       "\n",
       "    .dataframe thead th {\n",
       "        text-align: right;\n",
       "    }\n",
       "</style>\n",
       "<table border=\"1\" class=\"dataframe\">\n",
       "  <thead>\n",
       "    <tr style=\"text-align: right;\">\n",
       "      <th></th>\n",
       "      <th>Entitat_Municipal</th>\n",
       "      <th>Organ_Gestor</th>\n",
       "      <th>Beneficiari</th>\n",
       "      <th>NIF_CIF</th>\n",
       "      <th>Tipologia_De_Subvencio</th>\n",
       "      <th>Codi_De_Subvencio</th>\n",
       "      <th>Objecte</th>\n",
       "      <th>Data_Convocatoria</th>\n",
       "      <th>Data_Atorgament</th>\n",
       "      <th>Import_Sollicitat</th>\n",
       "      <th>Import_Total_Projecte</th>\n",
       "      <th>Import_Atorgat_Inicial</th>\n",
       "      <th>Import_Reintegrat_Total</th>\n",
       "    </tr>\n",
       "  </thead>\n",
       "  <tbody>\n",
       "    <tr>\n",
       "      <th>0</th>\n",
       "      <td>Ajuntament de Barcelona</td>\n",
       "      <td>Gerència Drets de Ciutadania, Participació i T...</td>\n",
       "      <td>ASSOCIACIO UCRAINESA DJERELO</td>\n",
       "      <td>G65874968</td>\n",
       "      <td>CONVOCATÒRIA GENERAL DE SUBVENCIONS 2019.DRETS...</td>\n",
       "      <td>19S00465</td>\n",
       "      <td>V Ucrania Fest</td>\n",
       "      <td>24.01.2019</td>\n",
       "      <td>16.09.2019</td>\n",
       "      <td>5000.0</td>\n",
       "      <td>14900.0</td>\n",
       "      <td>4500.0</td>\n",
       "      <td>0.0</td>\n",
       "    </tr>\n",
       "  </tbody>\n",
       "</table>\n",
       "</div>"
      ],
      "text/plain": [
       "         Entitat_Municipal                                       Organ_Gestor  \\\n",
       "0  Ajuntament de Barcelona  Gerència Drets de Ciutadania, Participació i T...   \n",
       "\n",
       "                     Beneficiari    NIF_CIF  \\\n",
       "0   ASSOCIACIO UCRAINESA DJERELO  G65874968   \n",
       "\n",
       "                              Tipologia_De_Subvencio Codi_De_Subvencio  \\\n",
       "0  CONVOCATÒRIA GENERAL DE SUBVENCIONS 2019.DRETS...          19S00465   \n",
       "\n",
       "          Objecte Data_Convocatoria Data_Atorgament  Import_Sollicitat  \\\n",
       "0  V Ucrania Fest        24.01.2019      16.09.2019             5000.0   \n",
       "\n",
       "   Import_Total_Projecte  Import_Atorgat_Inicial  Import_Reintegrat_Total  \n",
       "0                14900.0                  4500.0                      0.0  "
      ]
     },
     "execution_count": 376,
     "metadata": {},
     "output_type": "execute_result"
    }
   ],
   "source": [
    "df_subvencions.head(1)"
   ]
  },
  {
   "cell_type": "code",
   "execution_count": 377,
   "metadata": {},
   "outputs": [],
   "source": [
    "df_subvencions.drop(['Objecte','Import_Reintegrat_Total','Beneficiari','NIF_CIF','Tipologia_De_Subvencio','Codi_De_Subvencio'], axis=1, inplace=True)"
   ]
  },
  {
   "cell_type": "code",
   "execution_count": 378,
   "metadata": {},
   "outputs": [
    {
     "data": {
      "text/html": [
       "<div>\n",
       "<style scoped>\n",
       "    .dataframe tbody tr th:only-of-type {\n",
       "        vertical-align: middle;\n",
       "    }\n",
       "\n",
       "    .dataframe tbody tr th {\n",
       "        vertical-align: top;\n",
       "    }\n",
       "\n",
       "    .dataframe thead th {\n",
       "        text-align: right;\n",
       "    }\n",
       "</style>\n",
       "<table border=\"1\" class=\"dataframe\">\n",
       "  <thead>\n",
       "    <tr style=\"text-align: right;\">\n",
       "      <th></th>\n",
       "      <th>Entitat_Municipal</th>\n",
       "      <th>Organ_Gestor</th>\n",
       "      <th>Data_Convocatoria</th>\n",
       "      <th>Data_Atorgament</th>\n",
       "      <th>Import_Sollicitat</th>\n",
       "      <th>Import_Total_Projecte</th>\n",
       "      <th>Import_Atorgat_Inicial</th>\n",
       "    </tr>\n",
       "  </thead>\n",
       "  <tbody>\n",
       "    <tr>\n",
       "      <th>0</th>\n",
       "      <td>Ajuntament de Barcelona</td>\n",
       "      <td>Gerència Drets de Ciutadania, Participació i T...</td>\n",
       "      <td>24.01.2019</td>\n",
       "      <td>16.09.2019</td>\n",
       "      <td>5000.0</td>\n",
       "      <td>14900.0</td>\n",
       "      <td>4500.0</td>\n",
       "    </tr>\n",
       "  </tbody>\n",
       "</table>\n",
       "</div>"
      ],
      "text/plain": [
       "         Entitat_Municipal                                       Organ_Gestor  \\\n",
       "0  Ajuntament de Barcelona  Gerència Drets de Ciutadania, Participació i T...   \n",
       "\n",
       "  Data_Convocatoria Data_Atorgament  Import_Sollicitat  Import_Total_Projecte  \\\n",
       "0        24.01.2019      16.09.2019             5000.0                14900.0   \n",
       "\n",
       "   Import_Atorgat_Inicial  \n",
       "0                  4500.0  "
      ]
     },
     "execution_count": 378,
     "metadata": {},
     "output_type": "execute_result"
    }
   ],
   "source": [
    "df_subvencions.head(1)"
   ]
  },
  {
   "cell_type": "code",
   "execution_count": 379,
   "metadata": {},
   "outputs": [],
   "source": [
    "# Convierto fecha a tipo date time\n",
    "df_subvencions['Data_Convocatoria'] = pd.to_datetime(df_subvencions['Data_Convocatoria'], format='%d.%m.%Y', errors='coerce')\n",
    "df_subvencions['Data_Atorgament'] = pd.to_datetime(df_subvencions['Data_Atorgament'], format='%d.%m.%Y', errors='coerce')"
   ]
  },
  {
   "cell_type": "code",
   "execution_count": 380,
   "metadata": {},
   "outputs": [],
   "source": [
    "df_subvencions['diferencia_dias'] = df_subvencions['Data_Atorgament']-df_subvencions['Data_Convocatoria']\n",
    "df_subvencions['diferencia_dias'] = df_subvencions['diferencia_dias'].dt.days"
   ]
  },
  {
   "cell_type": "code",
   "execution_count": 381,
   "metadata": {},
   "outputs": [],
   "source": [
    "df_subvencions = df_subvencions[df_subvencions['diferencia_dias']>0]"
   ]
  },
  {
   "cell_type": "code",
   "execution_count": 382,
   "metadata": {},
   "outputs": [
    {
     "data": {
      "text/plain": [
       "33"
      ]
     },
     "execution_count": 382,
     "metadata": {},
     "output_type": "execute_result"
    }
   ],
   "source": [
    "df_subvencions['Organ_Gestor'].nunique()"
   ]
  },
  {
   "cell_type": "code",
   "execution_count": 383,
   "metadata": {},
   "outputs": [],
   "source": [
    "df_subvencions['Organ_Gestor'] = df_subvencions['Organ_Gestor'].replace('gerencia municipal', 'gerència municipal')\n",
    "df_subvencions['Organ_Gestor'] = df_subvencions['Organ_Gestor'].replace(\"gerència d'àrea d'agenda 2030, transició digital,\", \"gerència d'àrea d'agenda 2030, transició digital i esports\")  "
   ]
  },
  {
   "cell_type": "code",
   "execution_count": 384,
   "metadata": {},
   "outputs": [],
   "source": [
    "df_subvencions.drop(['Data_Convocatoria','Data_Atorgament'], axis=1, inplace=True)"
   ]
  },
  {
   "cell_type": "code",
   "execution_count": 385,
   "metadata": {},
   "outputs": [
    {
     "data": {
      "text/html": [
       "<div>\n",
       "<style scoped>\n",
       "    .dataframe tbody tr th:only-of-type {\n",
       "        vertical-align: middle;\n",
       "    }\n",
       "\n",
       "    .dataframe tbody tr th {\n",
       "        vertical-align: top;\n",
       "    }\n",
       "\n",
       "    .dataframe thead th {\n",
       "        text-align: right;\n",
       "    }\n",
       "</style>\n",
       "<table border=\"1\" class=\"dataframe\">\n",
       "  <thead>\n",
       "    <tr style=\"text-align: right;\">\n",
       "      <th></th>\n",
       "      <th>Import_Sollicitat</th>\n",
       "      <th>Import_Total_Projecte</th>\n",
       "      <th>Import_Atorgat_Inicial</th>\n",
       "      <th>diferencia_dias</th>\n",
       "    </tr>\n",
       "  </thead>\n",
       "  <tbody>\n",
       "    <tr>\n",
       "      <th>count</th>\n",
       "      <td>3.355900e+04</td>\n",
       "      <td>3.355900e+04</td>\n",
       "      <td>3.355900e+04</td>\n",
       "      <td>33559.000000</td>\n",
       "    </tr>\n",
       "    <tr>\n",
       "      <th>mean</th>\n",
       "      <td>8.063863e+03</td>\n",
       "      <td>2.446405e+04</td>\n",
       "      <td>5.466970e+03</td>\n",
       "      <td>227.064036</td>\n",
       "    </tr>\n",
       "    <tr>\n",
       "      <th>std</th>\n",
       "      <td>2.080629e+04</td>\n",
       "      <td>1.528183e+05</td>\n",
       "      <td>1.714821e+04</td>\n",
       "      <td>55.809468</td>\n",
       "    </tr>\n",
       "    <tr>\n",
       "      <th>min</th>\n",
       "      <td>0.000000e+00</td>\n",
       "      <td>0.000000e+00</td>\n",
       "      <td>2.500000e-01</td>\n",
       "      <td>2.000000</td>\n",
       "    </tr>\n",
       "    <tr>\n",
       "      <th>25%</th>\n",
       "      <td>1.000000e+03</td>\n",
       "      <td>2.000000e+03</td>\n",
       "      <td>6.000000e+02</td>\n",
       "      <td>182.000000</td>\n",
       "    </tr>\n",
       "    <tr>\n",
       "      <th>50%</th>\n",
       "      <td>3.000000e+03</td>\n",
       "      <td>6.500000e+03</td>\n",
       "      <td>1.800000e+03</td>\n",
       "      <td>231.000000</td>\n",
       "    </tr>\n",
       "    <tr>\n",
       "      <th>75%</th>\n",
       "      <td>7.488000e+03</td>\n",
       "      <td>1.850000e+04</td>\n",
       "      <td>4.000000e+03</td>\n",
       "      <td>260.000000</td>\n",
       "    </tr>\n",
       "    <tr>\n",
       "      <th>max</th>\n",
       "      <td>1.631954e+06</td>\n",
       "      <td>1.239800e+07</td>\n",
       "      <td>1.631954e+06</td>\n",
       "      <td>758.000000</td>\n",
       "    </tr>\n",
       "  </tbody>\n",
       "</table>\n",
       "</div>"
      ],
      "text/plain": [
       "       Import_Sollicitat  Import_Total_Projecte  Import_Atorgat_Inicial  \\\n",
       "count       3.355900e+04           3.355900e+04            3.355900e+04   \n",
       "mean        8.063863e+03           2.446405e+04            5.466970e+03   \n",
       "std         2.080629e+04           1.528183e+05            1.714821e+04   \n",
       "min         0.000000e+00           0.000000e+00            2.500000e-01   \n",
       "25%         1.000000e+03           2.000000e+03            6.000000e+02   \n",
       "50%         3.000000e+03           6.500000e+03            1.800000e+03   \n",
       "75%         7.488000e+03           1.850000e+04            4.000000e+03   \n",
       "max         1.631954e+06           1.239800e+07            1.631954e+06   \n",
       "\n",
       "       diferencia_dias  \n",
       "count     33559.000000  \n",
       "mean        227.064036  \n",
       "std          55.809468  \n",
       "min           2.000000  \n",
       "25%         182.000000  \n",
       "50%         231.000000  \n",
       "75%         260.000000  \n",
       "max         758.000000  "
      ]
     },
     "execution_count": 385,
     "metadata": {},
     "output_type": "execute_result"
    }
   ],
   "source": [
    "df_subvencions.describe()"
   ]
  },
  {
   "cell_type": "code",
   "execution_count": 386,
   "metadata": {},
   "outputs": [
    {
     "data": {
      "text/plain": [
       "(33299, 6)"
      ]
     },
     "execution_count": 386,
     "metadata": {},
     "output_type": "execute_result"
    }
   ],
   "source": [
    "df_subvencions = df_subvencions[df_subvencions['Import_Sollicitat']<=100000]\n",
    "df_subvencions.shape"
   ]
  },
  {
   "cell_type": "code",
   "execution_count": 387,
   "metadata": {},
   "outputs": [
    {
     "data": {
      "text/html": [
       "<div>\n",
       "<style scoped>\n",
       "    .dataframe tbody tr th:only-of-type {\n",
       "        vertical-align: middle;\n",
       "    }\n",
       "\n",
       "    .dataframe tbody tr th {\n",
       "        vertical-align: top;\n",
       "    }\n",
       "\n",
       "    .dataframe thead th {\n",
       "        text-align: right;\n",
       "    }\n",
       "</style>\n",
       "<table border=\"1\" class=\"dataframe\">\n",
       "  <thead>\n",
       "    <tr style=\"text-align: right;\">\n",
       "      <th></th>\n",
       "      <th>Entitat_Municipal</th>\n",
       "      <th>Organ_Gestor</th>\n",
       "      <th>Import_Sollicitat</th>\n",
       "      <th>Import_Total_Projecte</th>\n",
       "      <th>Import_Atorgat_Inicial</th>\n",
       "      <th>diferencia_dias</th>\n",
       "    </tr>\n",
       "  </thead>\n",
       "  <tbody>\n",
       "    <tr>\n",
       "      <th>9174</th>\n",
       "      <td>Ajuntament de Barcelona</td>\n",
       "      <td>Gerència de Presidència i Economia</td>\n",
       "      <td>0.0</td>\n",
       "      <td>78.5</td>\n",
       "      <td>300.0</td>\n",
       "      <td>260.0</td>\n",
       "    </tr>\n",
       "  </tbody>\n",
       "</table>\n",
       "</div>"
      ],
      "text/plain": [
       "            Entitat_Municipal                        Organ_Gestor  \\\n",
       "9174  Ajuntament de Barcelona  Gerència de Presidència i Economia   \n",
       "\n",
       "      Import_Sollicitat  Import_Total_Projecte  Import_Atorgat_Inicial  \\\n",
       "9174                0.0                   78.5                   300.0   \n",
       "\n",
       "      diferencia_dias  \n",
       "9174            260.0  "
      ]
     },
     "execution_count": 387,
     "metadata": {},
     "output_type": "execute_result"
    }
   ],
   "source": [
    "df_subvencions.sample(1)"
   ]
  },
  {
   "cell_type": "code",
   "execution_count": 388,
   "metadata": {},
   "outputs": [],
   "source": [
    "columnas_objeto = list(df_subvencions.describe(include=object)) \n",
    "columnas_numericas = list(df_subvencions.describe()) "
   ]
  },
  {
   "cell_type": "code",
   "execution_count": 389,
   "metadata": {},
   "outputs": [],
   "source": [
    "df_subvencions # dataset original\n",
    "\n",
    "def clean_string(columna):\n",
    "    \"\"\"elimina espacios al final y al comienzo y convierte en minuscula\"\"\"\n",
    "    return columna.apply(lambda x: x.str.strip().str.lower())\n",
    "\n",
    "def fix_null(dataset):\n",
    "    dataset['Organ_Gestor'] = dataset['Organ_Gestor'].fillna(dataset['Entitat_Municipal'])\n",
    "    return dataset"
   ]
  },
  {
   "cell_type": "code",
   "execution_count": 390,
   "metadata": {},
   "outputs": [
    {
     "data": {
      "text/plain": [
       "['Import_Sollicitat',\n",
       " 'Import_Total_Projecte',\n",
       " 'Import_Atorgat_Inicial',\n",
       " 'diferencia_dias']"
      ]
     },
     "execution_count": 390,
     "metadata": {},
     "output_type": "execute_result"
    }
   ],
   "source": [
    "columnas_numericas"
   ]
  },
  {
   "cell_type": "code",
   "execution_count": 401,
   "metadata": {},
   "outputs": [],
   "source": [
    "preprocessor = ColumnTransformer(\n",
    "    transformers=[\n",
    "        (\"imputar_nulos_constante_na\", SimpleImputer(strategy=\"constant\", fill_value=\"NA\"), ['Organ_Gestor']),\n",
    "        ('objeto', FunctionTransformer(clean_string), ['Entitat_Municipal','Organ_Gestor'])\n",
    "    ]\n",
    ")"
   ]
  },
  {
   "cell_type": "code",
   "execution_count": 402,
   "metadata": {},
   "outputs": [],
   "source": [
    "onhot_scaler = ColumnTransformer(\n",
    "    transformers = [\n",
    "        ('ohe', OneHotEncoder(sparse_output=False), columnas_objeto),\n",
    "        ('minmax_scale', MinMaxScaler(), ['Import_Sollicitat','Import_Atorgat_Inicial','diferencia_dias']),\n",
    "    ]\n",
    ")"
   ]
  },
  {
   "cell_type": "code",
   "execution_count": 403,
   "metadata": {},
   "outputs": [],
   "source": [
    "pipeline = Pipeline(steps = [\n",
    "    (\"preprocesing\", preprocessor),\n",
    "    (\"transform\", onhot_scaler),\n",
    "    (\"modelo\", DecisionTreeClassifier(random_state=12))\n",
    "])"
   ]
  },
  {
   "cell_type": "code",
   "execution_count": 404,
   "metadata": {},
   "outputs": [],
   "source": [
    "X = df_subvencions.drop('Import_Total_Projecte', axis=1)  # Características\n",
    "y = df_subvencions['Import_Total_Projecte']  # Variable objetivo\n",
    "X_train, X_test, y_train, y_test = train_test_split(X, y, test_size=0.2, random_state=13)"
   ]
  },
  {
   "cell_type": "code",
   "execution_count": null,
   "metadata": {},
   "outputs": [],
   "source": [
    "# Entreno el modelo con mi pipeline\n",
    "pipeline.fit(X_train, y_train)"
   ]
  }
 ],
 "metadata": {
  "kernelspec": {
   "display_name": "env",
   "language": "python",
   "name": "python3"
  },
  "language_info": {
   "codemirror_mode": {
    "name": "ipython",
    "version": 3
   },
   "file_extension": ".py",
   "mimetype": "text/x-python",
   "name": "python",
   "nbconvert_exporter": "python",
   "pygments_lexer": "ipython3",
   "version": "3.12.7"
  }
 },
 "nbformat": 4,
 "nbformat_minor": 2
}

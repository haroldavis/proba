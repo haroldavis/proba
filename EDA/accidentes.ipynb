{
 "cells": [
  {
   "cell_type": "code",
   "execution_count": 2,
   "metadata": {},
   "outputs": [],
   "source": [
    "import pandas as pd\n",
    "import numpy as np\n",
    "import matplotlib.pyplot as plt\n",
    "import seaborn as sns\n",
    "\n",
    "pd.set_option('display.max_columns', 150) \n",
    "pd.set_option('display.max_rows', 150)"
   ]
  },
  {
   "cell_type": "code",
   "execution_count": 4,
   "metadata": {},
   "outputs": [],
   "source": [
    "df_acci = pd.read_csv('../data/2023_accidents_causa_conductor_gu_bcn_.csv')"
   ]
  },
  {
   "cell_type": "code",
   "execution_count": 5,
   "metadata": {},
   "outputs": [
    {
     "name": "stdout",
     "output_type": "stream",
     "text": [
      "<class 'pandas.core.frame.DataFrame'>\n",
      "RangeIndex: 8897 entries, 0 to 8896\n",
      "Data columns (total 20 columns):\n",
      " #   Column                    Non-Null Count  Dtype  \n",
      "---  ------                    --------------  -----  \n",
      " 0   Numero_expedient          8897 non-null   object \n",
      " 1   Codi_districte            8897 non-null   int64  \n",
      " 2   Nom_districte             8897 non-null   object \n",
      " 3   Codi_barri                8897 non-null   int64  \n",
      " 4   Nom_barri                 8897 non-null   object \n",
      " 5   Codi_carrer               8897 non-null   int64  \n",
      " 6   Nom_carrer                8897 non-null   object \n",
      " 7   Num_postal                8893 non-null   object \n",
      " 8   Descripcio_dia_setmana    8897 non-null   object \n",
      " 9   NK_Any                    8897 non-null   int64  \n",
      " 10  Mes_any                   8897 non-null   int64  \n",
      " 11  Nom_mes                   8897 non-null   object \n",
      " 12  Dia_mes                   8897 non-null   int64  \n",
      " 13  Hora_dia                  8897 non-null   int64  \n",
      " 14  Descripcio_torn           8897 non-null   object \n",
      " 15  Descripcio_causa_mediata  8897 non-null   object \n",
      " 16  Coordenada_UTM_X_ED50     8897 non-null   float64\n",
      " 17  Coordenada_UTM_Y_ED50     8897 non-null   float64\n",
      " 18  Longitud_WGS84            8897 non-null   float64\n",
      " 19  Latitud_WGS84             8897 non-null   float64\n",
      "dtypes: float64(4), int64(7), object(9)\n",
      "memory usage: 1.4+ MB\n"
     ]
    }
   ],
   "source": [
    "df_acci.info()"
   ]
  },
  {
   "cell_type": "code",
   "execution_count": 6,
   "metadata": {},
   "outputs": [
    {
     "name": "stdout",
     "output_type": "stream",
     "text": [
      "(8897, 20)\n"
     ]
    },
    {
     "data": {
      "text/html": [
       "<div>\n",
       "<style scoped>\n",
       "    .dataframe tbody tr th:only-of-type {\n",
       "        vertical-align: middle;\n",
       "    }\n",
       "\n",
       "    .dataframe tbody tr th {\n",
       "        vertical-align: top;\n",
       "    }\n",
       "\n",
       "    .dataframe thead th {\n",
       "        text-align: right;\n",
       "    }\n",
       "</style>\n",
       "<table border=\"1\" class=\"dataframe\">\n",
       "  <thead>\n",
       "    <tr style=\"text-align: right;\">\n",
       "      <th></th>\n",
       "      <th>Numero_expedient</th>\n",
       "      <th>Codi_districte</th>\n",
       "      <th>Nom_districte</th>\n",
       "      <th>Codi_barri</th>\n",
       "      <th>Nom_barri</th>\n",
       "      <th>Codi_carrer</th>\n",
       "      <th>Nom_carrer</th>\n",
       "      <th>Num_postal</th>\n",
       "      <th>Descripcio_dia_setmana</th>\n",
       "      <th>NK_Any</th>\n",
       "      <th>Mes_any</th>\n",
       "      <th>Nom_mes</th>\n",
       "      <th>Dia_mes</th>\n",
       "      <th>Hora_dia</th>\n",
       "      <th>Descripcio_torn</th>\n",
       "      <th>Descripcio_causa_mediata</th>\n",
       "      <th>Coordenada_UTM_X_ED50</th>\n",
       "      <th>Coordenada_UTM_Y_ED50</th>\n",
       "      <th>Longitud_WGS84</th>\n",
       "      <th>Latitud_WGS84</th>\n",
       "    </tr>\n",
       "  </thead>\n",
       "  <tbody>\n",
       "    <tr>\n",
       "      <th>0</th>\n",
       "      <td>2023S000699</td>\n",
       "      <td>-1</td>\n",
       "      <td>Desconegut</td>\n",
       "      <td>-1</td>\n",
       "      <td>Desconegut</td>\n",
       "      <td>-1</td>\n",
       "      <td>Rovira (ascendent)                            ...</td>\n",
       "      <td>0</td>\n",
       "      <td>Dissabte</td>\n",
       "      <td>2023</td>\n",
       "      <td>2</td>\n",
       "      <td>Febrer</td>\n",
       "      <td>4</td>\n",
       "      <td>16</td>\n",
       "      <td>Tarda</td>\n",
       "      <td>Manca d'atenció a la conducció</td>\n",
       "      <td>430443.36</td>\n",
       "      <td>4585232.00</td>\n",
       "      <td>2.166596</td>\n",
       "      <td>41.413783</td>\n",
       "    </tr>\n",
       "    <tr>\n",
       "      <th>1</th>\n",
       "      <td>2023S005197</td>\n",
       "      <td>-1</td>\n",
       "      <td>Desconegut</td>\n",
       "      <td>-1</td>\n",
       "      <td>Desconegut</td>\n",
       "      <td>-1</td>\n",
       "      <td>Estatut de Catalunya                          ...</td>\n",
       "      <td>11</td>\n",
       "      <td>Divendres</td>\n",
       "      <td>2023</td>\n",
       "      <td>9</td>\n",
       "      <td>Setembre</td>\n",
       "      <td>1</td>\n",
       "      <td>13</td>\n",
       "      <td>Matí</td>\n",
       "      <td>No respectar distàncies</td>\n",
       "      <td>429493.73</td>\n",
       "      <td>4587108.15</td>\n",
       "      <td>2.155015</td>\n",
       "      <td>41.430598</td>\n",
       "    </tr>\n",
       "  </tbody>\n",
       "</table>\n",
       "</div>"
      ],
      "text/plain": [
       "  Numero_expedient  Codi_districte Nom_districte  Codi_barri   Nom_barri  \\\n",
       "0  2023S000699                  -1    Desconegut          -1  Desconegut   \n",
       "1  2023S005197                  -1    Desconegut          -1  Desconegut   \n",
       "\n",
       "   Codi_carrer                                         Nom_carrer Num_postal   \\\n",
       "0           -1  Rovira (ascendent)                            ...  0            \n",
       "1           -1  Estatut de Catalunya                          ...  11           \n",
       "\n",
       "  Descripcio_dia_setmana  NK_Any  Mes_any   Nom_mes  Dia_mes  Hora_dia  \\\n",
       "0               Dissabte    2023        2    Febrer        4        16   \n",
       "1              Divendres    2023        9  Setembre        1        13   \n",
       "\n",
       "  Descripcio_torn        Descripcio_causa_mediata  Coordenada_UTM_X_ED50  \\\n",
       "0           Tarda  Manca d'atenció a la conducció              430443.36   \n",
       "1            Matí         No respectar distàncies              429493.73   \n",
       "\n",
       "   Coordenada_UTM_Y_ED50  Longitud_WGS84  Latitud_WGS84  \n",
       "0             4585232.00        2.166596      41.413783  \n",
       "1             4587108.15        2.155015      41.430598  "
      ]
     },
     "execution_count": 6,
     "metadata": {},
     "output_type": "execute_result"
    }
   ],
   "source": [
    "print(df_acci.shape)\n",
    "df_acci.head(2)"
   ]
  },
  {
   "cell_type": "code",
   "execution_count": 7,
   "metadata": {},
   "outputs": [
    {
     "data": {
      "text/html": [
       "<div>\n",
       "<style scoped>\n",
       "    .dataframe tbody tr th:only-of-type {\n",
       "        vertical-align: middle;\n",
       "    }\n",
       "\n",
       "    .dataframe tbody tr th {\n",
       "        vertical-align: top;\n",
       "    }\n",
       "\n",
       "    .dataframe thead th {\n",
       "        text-align: right;\n",
       "    }\n",
       "</style>\n",
       "<table border=\"1\" class=\"dataframe\">\n",
       "  <thead>\n",
       "    <tr style=\"text-align: right;\">\n",
       "      <th></th>\n",
       "      <th>Numero_expedient</th>\n",
       "      <th>Codi_districte</th>\n",
       "      <th>Nom_districte</th>\n",
       "      <th>Codi_barri</th>\n",
       "      <th>Nom_barri</th>\n",
       "      <th>Codi_carrer</th>\n",
       "      <th>Nom_carrer</th>\n",
       "      <th>Num_postal</th>\n",
       "      <th>Descripcio_dia_setmana</th>\n",
       "      <th>NK_Any</th>\n",
       "      <th>Mes_any</th>\n",
       "      <th>Nom_mes</th>\n",
       "      <th>Dia_mes</th>\n",
       "      <th>Hora_dia</th>\n",
       "      <th>Descripcio_torn</th>\n",
       "      <th>Descripcio_causa_mediata</th>\n",
       "      <th>Coordenada_UTM_X_ED50</th>\n",
       "      <th>Coordenada_UTM_Y_ED50</th>\n",
       "      <th>Longitud_WGS84</th>\n",
       "      <th>Latitud_WGS84</th>\n",
       "    </tr>\n",
       "  </thead>\n",
       "  <tbody>\n",
       "  </tbody>\n",
       "</table>\n",
       "</div>"
      ],
      "text/plain": [
       "Empty DataFrame\n",
       "Columns: [Numero_expedient, Codi_districte, Nom_districte, Codi_barri, Nom_barri, Codi_carrer, Nom_carrer, Num_postal , Descripcio_dia_setmana, NK_Any, Mes_any, Nom_mes, Dia_mes, Hora_dia, Descripcio_torn, Descripcio_causa_mediata, Coordenada_UTM_X_ED50, Coordenada_UTM_Y_ED50, Longitud_WGS84, Latitud_WGS84]\n",
       "Index: []"
      ]
     },
     "execution_count": 7,
     "metadata": {},
     "output_type": "execute_result"
    }
   ],
   "source": [
    "df_acci[df_acci.duplicated(keep=False)]"
   ]
  },
  {
   "cell_type": "code",
   "execution_count": 8,
   "metadata": {},
   "outputs": [
    {
     "data": {
      "text/plain": [
       "Numero_expedient            0\n",
       "Codi_districte              0\n",
       "Nom_districte               0\n",
       "Codi_barri                  0\n",
       "Nom_barri                   0\n",
       "Codi_carrer                 0\n",
       "Nom_carrer                  0\n",
       "Num_postal                  4\n",
       "Descripcio_dia_setmana      0\n",
       "NK_Any                      0\n",
       "Mes_any                     0\n",
       "Nom_mes                     0\n",
       "Dia_mes                     0\n",
       "Hora_dia                    0\n",
       "Descripcio_torn             0\n",
       "Descripcio_causa_mediata    0\n",
       "Coordenada_UTM_X_ED50       0\n",
       "Coordenada_UTM_Y_ED50       0\n",
       "Longitud_WGS84              0\n",
       "Latitud_WGS84               0\n",
       "dtype: int64"
      ]
     },
     "execution_count": 8,
     "metadata": {},
     "output_type": "execute_result"
    }
   ],
   "source": [
    "df_acci.isnull().sum()"
   ]
  }
 ],
 "metadata": {
  "kernelspec": {
   "display_name": "env",
   "language": "python",
   "name": "python3"
  },
  "language_info": {
   "codemirror_mode": {
    "name": "ipython",
    "version": 3
   },
   "file_extension": ".py",
   "mimetype": "text/x-python",
   "name": "python",
   "nbconvert_exporter": "python",
   "pygments_lexer": "ipython3",
   "version": "3.12.7"
  }
 },
 "nbformat": 4,
 "nbformat_minor": 2
}
